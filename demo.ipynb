{
 "cells": [
  {
   "cell_type": "markdown",
   "metadata": {},
   "source": [
    "# Demo Notebook"
   ]
  },
  {
   "cell_type": "markdown",
   "metadata": {},
   "source": [
    "## Setting link to dataset"
   ]
  },
  {
   "cell_type": "markdown",
   "metadata": {},
   "source": [
    "Let's use sample dataset with correct format to demonstrate how inference pipeline is launched. Sample dataset is stored in GDrive storage in **.zip** format. "
   ]
  },
  {
   "cell_type": "code",
   "execution_count": null,
   "metadata": {},
   "outputs": [],
   "source": [
    "YOUR_DATASET_LINK=\"https://drive.google.com/file/d/1vqqNkDrv6rsc83QQmDPXbLW94KvTqXxT/view?usp=sharing\""
   ]
  },
  {
   "cell_type": "markdown",
   "metadata": {},
   "source": [
    "Export link to env for convenience."
   ]
  },
  {
   "cell_type": "code",
   "execution_count": null,
   "metadata": {},
   "outputs": [
    {
     "name": "stdout",
     "output_type": "stream",
     "text": [
      "env: DATASET=https://drive.google.com/drive/folders/1hFGVck42sjMV8v65LGRXk2AZDdFJgk1d?usp=sharing\n"
     ]
    }
   ],
   "source": [
    "%env DATASET=$YOUR_DATASET_LINK"
   ]
  },
  {
   "cell_type": "markdown",
   "metadata": {},
   "source": [
    "## Downloading and installing requirements"
   ]
  },
  {
   "cell_type": "markdown",
   "metadata": {},
   "source": [
    "Clone repository with code."
   ]
  },
  {
   "cell_type": "code",
   "execution_count": null,
   "metadata": {},
   "outputs": [],
   "source": [
    "!git clone https://github.com/ayazvaliev/asr_hw.git"
   ]
  },
  {
   "cell_type": "markdown",
   "metadata": {},
   "source": [
    "Change CWD in notebook to repo's root dir."
   ]
  },
  {
   "cell_type": "code",
   "execution_count": null,
   "metadata": {},
   "outputs": [],
   "source": [
    "import os\n",
    "os.chdir('asr_hw')"
   ]
  },
  {
   "cell_type": "markdown",
   "metadata": {},
   "source": [
    "Install all required libraries."
   ]
  },
  {
   "cell_type": "code",
   "execution_count": null,
   "metadata": {},
   "outputs": [],
   "source": [
    "!python -m pip install -r requirements.txt"
   ]
  },
  {
   "cell_type": "markdown",
   "metadata": {},
   "source": [
    "Load all required resources for inference. To read more about script's arguments use:\n",
    "```\n",
    "python load_resources.py --help\n",
    "```"
   ]
  },
  {
   "cell_type": "code",
   "execution_count": null,
   "metadata": {},
   "outputs": [],
   "source": [
    "!python load_resources.py --output output_dir --inference_only"
   ]
  },
  {
   "cell_type": "markdown",
   "metadata": {},
   "source": [
    "## Inference"
   ]
  },
  {
   "cell_type": "markdown",
   "metadata": {},
   "source": [
    "Launch inference. You need to specifiy following parameters in command line:\n",
    "- data_dir - data dir in correct format (audios are located in `data_dir/audio`, transcriptions (optionally) are located in `data_dir/transcriptions`)\n",
    "- inferencer.save_path - dir for saving predictions. Predictions are saved in .txt with names corresponding to audiofiles' names.\n",
    "- inferencer.from_pretrained - path to checkpoint, that'll be used for inference. The checkpoint is fetched in `load_resources.py` script.\n",
    "- lm_guidance_dir - dir for enabling LM Guided decoding. All necessary utilities for this are fetched in `load_resources.py` script."
   ]
  },
  {
   "cell_type": "code",
   "execution_count": null,
   "metadata": {},
   "outputs": [],
   "source": [
    "!python inference.py 'data_dir=${oc.env:DATASET}' inferencer.save_path=saved_preds inferencer.from_pretrained=output_dir/ckpt/model_best.pth lm_guidance_dir=output_dir/lm_guidance"
   ]
  },
  {
   "cell_type": "markdown",
   "metadata": {},
   "source": [
    "Optionally calculate and log CER/WER metrics on ground truth for recieved predictions. To read more about script's arguments use:\n",
    "```\n",
    "python calc_metrics.py --help\n",
    "```"
   ]
  },
  {
   "cell_type": "code",
   "execution_count": null,
   "metadata": {},
   "outputs": [],
   "source": [
    "!python calc_metrics.py --predictions saved_preds --ground_truth sample_dataset/transcriptions"
   ]
  }
 ],
 "metadata": {
  "kernelspec": {
   "display_name": "dla_env",
   "language": "python",
   "name": "python3"
  },
  "language_info": {
   "codemirror_mode": {
    "name": "ipython",
    "version": 3
   },
   "file_extension": ".py",
   "mimetype": "text/x-python",
   "name": "python",
   "nbconvert_exporter": "python",
   "pygments_lexer": "ipython3",
   "version": "3.11.13"
  }
 },
 "nbformat": 4,
 "nbformat_minor": 2
}
